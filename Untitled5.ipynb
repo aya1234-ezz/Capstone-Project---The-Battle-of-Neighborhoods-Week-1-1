{
  "nbformat": 4,
  "nbformat_minor": 0,
  "metadata": {
    "colab": {
      "name": "Untitled5.ipynb",
      "provenance": []
    },
    "kernelspec": {
      "name": "python3",
      "display_name": "Python 3"
    }
  },
  "cells": [
    {
      "cell_type": "markdown",
      "metadata": {
        "id": "PJkTszb_8t5K",
        "colab_type": "text"
      },
      "source": [
        "A description of the problem and a discussion of the background:\n",
        "\n",
        "One client is looking to open a new resturant in Toronto. The client wants good place to gain a lot of money\n",
        "\n",
        "A description of the data and how it will be used to solve the problem :\n",
        "\n",
        "To solve this problem data about Canada (which includes Toronto) and it's neighbourhoods will be acquired from Wikipedia at: https://en.wikipedia.org/wiki/List_of_postal_codes_of_Canada:_M. The data about Toronto's venues will be obtained and explored using Four Square API. The data about Canada from Wikipedia will give us all the information we need about the locations and neighbourhoods of Toronto such as the size and population. The Four Square data will give us information about the available venues in Toronto such as popular eating places"
      ]
    }
  ]
}